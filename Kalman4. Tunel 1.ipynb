{
 "cells": [
  {
   "cell_type": "markdown",
   "metadata": {},
   "source": [
    "# Filtro de Kalman\n",
    "### Ampliación de robótica\n",
    "\n",
    "En este apartado consideraremos el modelo dinámico con buena observabilidad de la velocidad"
   ]
  },
  {
   "cell_type": "code",
   "execution_count": 1,
   "metadata": {},
   "outputs": [],
   "source": [
    "import numpy as np\n",
    "%matplotlib inline\n",
    "import matplotlib.pyplot as plt\n",
    "from scipy.stats import norm\n",
    "from numpy.random import randn"
   ]
  },
  {
   "cell_type": "code",
   "execution_count": 2,
   "metadata": {},
   "outputs": [],
   "source": [
    "xm = np.arange(0, 400, 1)\n",
    "ym = np.zeros(400)\n",
    "x_r = np.zeros(400)\n",
    "y_r = np.zeros(400)\n",
    "y1 = np.arange(0,200,1)\n",
    "y2 = np.arange(200,0,-1)"
   ]
  },
  {
   "cell_type": "code",
   "execution_count": 3,
   "metadata": {},
   "outputs": [],
   "source": [
    "for i in range (0,400):\n",
    "    if i<200:\n",
    "        ym[i] = y1[i]\n",
    "    else:\n",
    "        ym[i] = y2[i-200]"
   ]
  },
  {
   "cell_type": "code",
   "execution_count": 4,
   "metadata": {},
   "outputs": [],
   "source": [
    "#plt.plot(xm,ym)"
   ]
  },
  {
   "cell_type": "code",
   "execution_count": 5,
   "metadata": {},
   "outputs": [],
   "source": [
    "q = 2\n",
    "\n",
    "for i in range(0,400):\n",
    "    x_r[i] = xm[i] + q*np.random.randn();\n",
    "    y_r[i] = ym[i] + q*np.random.randn();\n",
    "    \n",
    "#plt.plot(x_r,y_r,xm,ym)"
   ]
  },
  {
   "cell_type": "markdown",
   "metadata": {},
   "source": [
    "![Imagen](kalman.png)"
   ]
  },
  {
   "cell_type": "markdown",
   "metadata": {},
   "source": [
    "![Imagen](ses1.png)"
   ]
  },
  {
   "cell_type": "markdown",
   "metadata": {},
   "source": [
    "## Vector de estados \n",
    "\n",
    "$$x_k= \\left[ \\matrix{ x \\\\ y \\\\ \\dot x \\\\ \\dot y} \\right] = \\matrix{ \\text{Posicion X} \\\\ \\text{Posicion Y} \\\\ \\text{Velocidad X} \\\\ \\text{Velocidad Y}}$$\n",
    "\n",
    "$$x_{k+1} = \\begin{bmatrix}1 & 0 & T & 0 \\\\ 0 & 1 & 0 & T \\\\ 0 & 0 & 1 & 0 \\\\ 0 & 0 & 0 & 1 \\end{bmatrix} \\cdot \\begin{bmatrix} x \\\\ y \\\\ \\dot x \\\\ \\dot y \\end{bmatrix}_{k}$$"
   ]
  },
  {
   "cell_type": "markdown",
   "metadata": {},
   "source": [
    "### Incertidumbre inicial $P_0$\n",
    "$$P_{0} = \\begin{bmatrix}\\sigma^2_x & 0 & 0 & 0 \\\\ 0 & \\sigma^2_y & 0 & 0 \\\\ 0 & 0 & \\sigma^2_{\\dot x} & 0 \\\\ 0 & 0 & 0 & \\sigma^2_{\\dot y} \\end{bmatrix}$$\n",
    "\n",
    "$\\sigma$ :Desviacion estandar"
   ]
  },
  {
   "cell_type": "code",
   "execution_count": 6,
   "metadata": {},
   "outputs": [],
   "source": [
    "P = np.diag([10.0, 10.0, 10.0, 10.0])"
   ]
  },
  {
   "cell_type": "markdown",
   "metadata": {},
   "source": [
    "### Matriz Dinámica $A$\n",
    "\n",
    "\n",
    "$$x_{k+1} = x_{k} + \\dot x_{k} \\cdot \\Delta t$$\n",
    "$$y_{k+1} = y_{k} + \\dot y_{k} \\cdot \\Delta t$$\n",
    "$$\\dot x_{k+1} = \\dot x_{k}$$\n",
    "$$\\dot y_{k+1} = \\dot y_{k}$$"
   ]
  },
  {
   "cell_type": "code",
   "execution_count": 7,
   "metadata": {},
   "outputs": [],
   "source": [
    "T = 0.1\n",
    "x = np.matrix([[0.0, 0.0, 0.0, 0.0]]).T\n",
    "A = np.matrix([[1.0, 0.0, T, 0.0],\n",
    "              [0.0, 1.0, 0.0, T],\n",
    "              [0.0, 0.0, 1.0, 0.0],\n",
    "              [0.0, 0.0, 0.0, 1.0]])\n"
   ]
  },
  {
   "cell_type": "markdown",
   "metadata": {},
   "source": [
    "### Matriz de Medidas $H$\n",
    "\n",
    "$$H = \\begin{bmatrix}1 & 0 & 0 & 0 \\\\ 0 & 1 & 0 & 0 \\\\ 0 & 0 & -T & 0 \\\\ 0 & 0 & 0 & -T \\end{bmatrix}$$"
   ]
  },
  {
   "cell_type": "code",
   "execution_count": 8,
   "metadata": {},
   "outputs": [
    {
     "name": "stdout",
     "output_type": "stream",
     "text": [
      "[[ 1.   0.   0.   0. ]\n",
      " [ 0.   1.   0.   0. ]\n",
      " [ 1.   0.  -0.1  0. ]\n",
      " [ 0.   1.   0.  -0.1]] (4, 4)\n"
     ]
    }
   ],
   "source": [
    "H = np.matrix([[1.0, 0.0, 0.0, 0.0],\n",
    "              [0.0, 1.0, 0.0, 0.0],\n",
    "               [1.0, 0.0,  -T, 0.0],\n",
    "               [0.0, 1.0, 0.0,-T]])\n",
    "\n",
    "''''H = np.matrix([[0.0, 0.0, 1.0, 0.0],\n",
    "              [0.0, 0.0, 0.0, 1.0]])'''\n",
    "\n",
    "               \n",
    "print(H, H.shape)"
   ]
  },
  {
   "cell_type": "markdown",
   "metadata": {},
   "source": [
    "### Medida de la convarianza del Ruido $R$\n",
    "\n",
    "R me dice que representa como de bueno es nuestro modelo en movimiento. Cuanto mayor es r mas malo es el modelo\n",
    "\n",
    "$$R = \\begin{bmatrix}\\sigma^2_{\\dot x} & 0 \\\\ 0 & \\sigma^2_{\\dot y} \\end{bmatrix}$$"
   ]
  },
  {
   "cell_type": "code",
   "execution_count": 9,
   "metadata": {},
   "outputs": [
    {
     "name": "stdout",
     "output_type": "stream",
     "text": [
      "[[36.  0.  0.  0.]\n",
      " [ 0. 36.  0.  0.]\n",
      " [ 0.  0. 36.  0.]\n",
      " [ 0.  0.  0. 36.]] (4, 4)\n"
     ]
    }
   ],
   "source": [
    "r = 6\n",
    "\n",
    "R = np.matrix([[r*r, 0.0, 0.0, 0.0],\n",
    "              [0.0, r*r, 0.0, 0.0],\n",
    "              [0.0,0.0, r*r, 0.0],\n",
    "               [0.0, 0.0, 0.0, r*r]])\n",
    "\n",
    "print(R, R.shape)"
   ]
  },
  {
   "cell_type": "markdown",
   "metadata": {},
   "source": [
    "### Ruido en la medida: $Q$"
   ]
  },
  {
   "cell_type": "markdown",
   "metadata": {},
   "source": [
    "$$Q = \\begin{bmatrix}q² & 0 & 0 & 0 \\\\ 0 & q² & 0 & 0 \\\\ 0 & 0 & 2q & 0 \\\\ 0 & 0 & 0 & 2q \\end{bmatrix}$$\n"
   ]
  },
  {
   "cell_type": "code",
   "execution_count": 10,
   "metadata": {},
   "outputs": [],
   "source": [
    "q = 2\n",
    "\n",
    "Q = np.matrix([[q*q, 0.0, 0.0, 0.0],\n",
    "              [0.0, q*q, 0.0, 0.0],\n",
    "              [0.0,0.0, 2*q, 0.0],\n",
    "               [0.0, 0.0, 0.0, 2*q]])\n"
   ]
  },
  {
   "cell_type": "code",
   "execution_count": 11,
   "metadata": {},
   "outputs": [
    {
     "name": "stdout",
     "output_type": "stream",
     "text": [
      "[[1. 0. 0. 0.]\n",
      " [0. 1. 0. 0.]\n",
      " [0. 0. 1. 0.]\n",
      " [0. 0. 0. 1.]] (4, 4)\n"
     ]
    }
   ],
   "source": [
    "I = np.eye(4)\n",
    "print(I, I.shape)"
   ]
  },
  {
   "cell_type": "markdown",
   "metadata": {},
   "source": [
    "### Medidas"
   ]
  },
  {
   "cell_type": "code",
   "execution_count": 12,
   "metadata": {},
   "outputs": [
    {
     "name": "stdout",
     "output_type": "stream",
     "text": [
      "(4, 400)\n"
     ]
    }
   ],
   "source": [
    "m = 400\n",
    "mx = np.zeros(400)\n",
    "my = np.zeros(400)\n",
    "vx = np.zeros(400)\n",
    "vy = np.zeros(400)\n",
    "xant = np.zeros(400)\n",
    "yant = np.zeros(400)\n",
    "\n",
    "medidas = []\n",
    "\n",
    "\n",
    "i=1\n",
    "    \n",
    "while i<400:\n",
    "    \n",
    "    if i>100 and i<150 :\n",
    "        x_r[i]=0\n",
    "        y_r[i]=0\n",
    "    \n",
    "    vx[i] = (x_r[i-1]-x_r[i])/T\n",
    "    vy[i] = (y_r[i-1]-y_r[i])/T\n",
    "    \n",
    "    xant[i] = x_r[i-1]\n",
    "    yant[i] = y_r[i-1]\n",
    "    i = i + 1\n",
    "    \n",
    "    \n",
    "\n",
    "\n",
    "medidas = np.vstack((x_r,y_r,xant,yant))\n",
    "print(medidas.shape)"
   ]
  },
  {
   "cell_type": "code",
   "execution_count": 13,
   "metadata": {},
   "outputs": [],
   "source": [
    "# Inicializamos las variables\n",
    "xt = []\n",
    "yt = []\n",
    "dxt= []\n",
    "dyt= []\n",
    "Zx = []\n",
    "Zy = []\n",
    "Px = []\n",
    "Py = []\n",
    "Pdx= []\n",
    "Pdy= []\n",
    "Rdx= []\n",
    "Rdy= []\n",
    "Kx = []\n",
    "Ky = []\n",
    "Kdx= []\n",
    "Kdy= []\n",
    " "
   ]
  },
  {
   "cell_type": "markdown",
   "metadata": {},
   "source": [
    "## Algoritmo Filtro de Kalman"
   ]
  },
  {
   "cell_type": "code",
   "execution_count": 14,
   "metadata": {},
   "outputs": [],
   "source": [
    "for n in range(1,len(medidas[0])):\n",
    "\n",
    "    # Prediccion\n",
    "    x = A*x\n",
    "    P = A*P*A.T + Q\n",
    "\n",
    "    # Correccion\n",
    "    S = H*P*H.T + R\n",
    "    K = (P*H.T) * np.linalg.pinv(S)\n",
    "\n",
    "    \n",
    "    if n<100 or n>150 :\n",
    "        # Actualizamos\n",
    "        Z = medidas[:,n].reshape(4,1)                           \n",
    "        x = x + (K*(Z-(H*x))) # Innovacion\n",
    "\n",
    "        # Actualizamos el error de la covarianzaz. \n",
    "        \n",
    "        P = (I - (K*H))*P\n",
    "        \n",
    "        Zx.append(float(Z[0]))\n",
    "        Zy.append(float(Z[1]))\n",
    "        Px.append(float(P[0,0]))\n",
    "        Py.append(float(P[1,1]))\n",
    "        Pdx.append(float(P[2,2]))\n",
    "        Pdy.append(float(P[3,3]))\n",
    "        Rdx.append(float(R[0,0]))\n",
    "        Rdy.append(float(R[1,1]))\n",
    "        Kx.append(float(K[0,0]))\n",
    "        Ky.append(float(K[1,0]))\n",
    "        Kdx.append(float(K[2,0]))\n",
    "        Kdy.append(float(K[3,0])) \n",
    "        xt.append(float(x[0]))\n",
    "        yt.append(float(x[1]))\n",
    "        dxt.append(float(x[2]))\n",
    "        dyt.append(float(x[3])) \n",
    "        \n",
    "        \n",
    "        \n",
    "        \n",
    "        \n",
    "    else:\n",
    "        xt.append(float(x[0]))\n",
    "        yt.append(float(x[1]))\n",
    "        dxt.append(float(x[2]))\n",
    "        dyt.append(float(x[3])) \n",
    "        \n",
    "\n",
    "\n",
    "\n",
    "\n"
   ]
  },
  {
   "cell_type": "code",
   "execution_count": 18,
   "metadata": {},
   "outputs": [
    {
     "data": {
      "text/plain": [
       "(-24.400798678897406,\n",
       " 425.59696156931346,\n",
       " -12.719143209112426,\n",
       " 210.64698141201168)"
      ]
     },
     "execution_count": 18,
     "metadata": {},
     "output_type": "execute_result"
    },
    {
     "data": {
      "image/png": "[encoded data removed]",
      "text/plain": [
       "<Figure size 1080x1080 with 1 Axes>"
      ]
     },
     "metadata": {
      "needs_background": "light"
     },
     "output_type": "display_data"
    }
   ],
   "source": [
    "from scipy.interpolate import interp1d\n",
    "\n",
    "f1 = interp1d(xt, yt, kind='nearest')\n",
    "f2 = interp1d(xt, yt, kind='linear')\n",
    "f3 = interp1d(xt, yt, kind='cubic')\n",
    "\n",
    "xx = np.linspace(min(xt),max(xt))\n",
    "\n",
    "\n",
    "fig = plt.figure(figsize=(15,15))\n",
    "plt.scatter(x_r,y_r, s=3,marker='o',label='Medida', c='k')\n",
    "plt.scatter(xt[0],yt[0], s=200, label='Comienzo', c='g')\n",
    "plt.scatter(xt[-1],yt[-1], s=200, label='Final', c='k')\n",
    "#plt.plot(x_r,y_r, 'bo')\n",
    "plt.plot(xx, f2(xx), '-',linewidth=4,label='Trayectoria')\n",
    "plt.xlabel('X')\n",
    "plt.ylabel('Y')\n",
    "plt.title('Position')\n",
    "plt.legend(loc='best')\n",
    "plt.axis('equal')"
   ]
  },
  {
   "cell_type": "code",
   "execution_count": 16,
   "metadata": {},
   "outputs": [
    {
     "data": {
      "text/plain": [
       "(-1630.8734245236774,\n",
       " 1148.6887491470748,\n",
       " -1631.7645135418716,\n",
       " 1125.767316330155)"
      ]
     },
     "execution_count": 16,
     "metadata": {},
     "output_type": "execute_result"
    },
    {
     "data": {
      "image/png": "[encoded data removed]",
      "text/plain": [
       "<Figure size 360x360 with 1 Axes>"
      ]
     },
     "metadata": {
      "needs_background": "light"
     },
     "output_type": "display_data"
    }
   ],
   "source": [
    "fig = plt.figure(figsize=(5,5))\n",
    "plt.scatter(dxt,dyt, s=40, label='Estado', c='r')\n",
    "plt.scatter(vx,vy, s=1, label='Medida', c='k')\n",
    "plt.scatter(xt[0],yt[0], s=200, label='Start', c='g')\n",
    "plt.scatter(xt[-1],yt[-1], s=200, label='Goal', c='k')\n",
    "plt.xlabel('X')\n",
    "plt.ylabel('Y')\n",
    "plt.title('Velocidad')\n",
    "plt.legend(loc='best')\n",
    "plt.axis('equal')"
   ]
  },
  {
   "cell_type": "code",
   "execution_count": null,
   "metadata": {},
   "outputs": [],
   "source": []
  },
  {
   "cell_type": "code",
   "execution_count": null,
   "metadata": {},
   "outputs": [],
   "source": []
  }
 ],
 "metadata": {
  "kernelspec": {
   "display_name": "Python 3",
   "language": "python",
   "name": "python3"
  },
  "language_info": {
   "codemirror_mode": {
    "name": "ipython",
    "version": 3
   },
   "file_extension": ".py",
   "mimetype": "text/x-python",
   "name": "python",
   "nbconvert_exporter": "python",
   "pygments_lexer": "ipython3",
   "version": "3.7.1"
  }
 },
 "nbformat": 4,
 "nbformat_minor": 2
}
